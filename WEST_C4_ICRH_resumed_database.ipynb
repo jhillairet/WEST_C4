{
 "cells": [
  {
   "cell_type": "markdown",
   "metadata": {},
   "source": [
    "# Creating a database of scalar values for ICRH coupling analysis"
   ]
  },
  {
   "cell_type": "code",
   "execution_count": 1,
   "metadata": {},
   "outputs": [],
   "source": [
    "# assume working in Jupyter Lab\n",
    "%matplotlib inline \n",
    "\n",
    "%load_ext autoreload\n",
    "%autoreload 2"
   ]
  },
  {
   "cell_type": "code",
   "execution_count": 2,
   "metadata": {},
   "outputs": [],
   "source": [
    "import sys\n",
    "sys.path.append('C:\\\\Users\\\\JH218595\\\\Documents\\\\pywed')\n",
    "sys.path.append('C:\\\\Users\\\\JH218595\\\\Documents\\\\IRFMtb')"
   ]
  },
  {
   "cell_type": "code",
   "execution_count": 3,
   "metadata": {},
   "outputs": [
    {
     "name": "stdout",
     "output_type": "stream",
     "text": [
      "IMAS only available on linux machines\n"
     ]
    }
   ],
   "source": [
    "import numpy as np\n",
    "from scipy.optimize import curve_fit\n",
    "import matplotlib.pyplot as plt \n",
    "plt.rcParams['figure.figsize'] = (10,6)\n",
    "\n",
    "from control_room import *\n",
    "from pulse_database import PulseDB\n",
    "from tqdm.notebook import tqdm\n",
    "\n",
    "import pandas as pd\n",
    "import seaborn as sns\n",
    "sns.set_style('whitegrid')"
   ]
  },
  {
   "cell_type": "markdown",
   "metadata": {},
   "source": [
    "The database has been created in another notebook. Importing database : "
   ]
  },
  {
   "cell_type": "code",
   "execution_count": 4,
   "metadata": {},
   "outputs": [
    {
     "name": "stdout",
     "output_type": "stream",
     "text": [
      "Database contains 391 shots, from #54404 to #55809 \n"
     ]
    }
   ],
   "source": [
    "dt = 0.050 # s\n",
    "\n",
    "hdf5_filename = 'databases/WEST_C4_ICRH_pulse_data.hdf5'\n",
    "file_output = 'WEST_C4_database_resumed_parameters.csv'\n",
    "\n",
    "db = PulseDB(hdf5_filename)\n",
    "print(f'Database contains {len(db.pulse_list)} shots, from #{db.pulse_list[0]} to #{db.pulse_list[-1]} ')"
   ]
  },
  {
   "cell_type": "markdown",
   "metadata": {},
   "source": [
    "## Creating a meaningfull database with pandas\n",
    "The idea is to split time in small pieces and to calculate scalar values for each of them"
   ]
  },
  {
   "cell_type": "code",
   "execution_count": 5,
   "metadata": {},
   "outputs": [],
   "source": [
    "def split_in_pieces(y, t, nb_pieces):\n",
    "    \"\"\"Split a time signel y(t) into smaller piece of length dt, and return t, average, min, max and std of each of them\"\"\"\n",
    "    y_mean_min_max, t_pieces = [], []\n",
    "    if nb_pieces > 0: \n",
    "        ts = np.array_split(np.squeeze(t), nb_pieces)\n",
    "        ys = np.array_split(np.squeeze(y), nb_pieces)\n",
    "        for (_y, _t) in zip(ys, ts):\n",
    "            t_pieces.append(np.mean(_t))\n",
    "            y_mean_min_max.append(mean_min_max(_y))\n",
    "        return np.array(y_mean_min_max), np.array(t_pieces)    \n",
    "    else:\n",
    "        return np.array([np.nan, np.nan, np.nan]), np.array([np.nan])\n",
    "    "
   ]
  },
  {
   "cell_type": "code",
   "execution_count": 6,
   "metadata": {},
   "outputs": [
    {
     "data": {
      "application/vnd.jupyter.widget-view+json": {
       "model_id": "2e526c8ccba24f44adf8aaa1c425b6b7",
       "version_major": 2,
       "version_minor": 0
      },
      "text/plain": [
       "HBox(children=(FloatProgress(value=0.0, max=391.0), HTML(value='')))"
      ]
     },
     "metadata": {},
     "output_type": "display_data"
    },
    {
     "name": "stderr",
     "output_type": "stream",
     "text": [
      "C:\\Users\\JH218595\\AppData\\Local\\Continuum\\anaconda3\\lib\\site-packages\\pandas\\core\\frame.py:7138: FutureWarning: Sorting because non-concatenation axis is not aligned. A future version\n",
      "of pandas will change to not sort by default.\n",
      "\n",
      "To accept the future behavior, pass 'sort=False'.\n",
      "\n",
      "To retain the current behavior and silence the warning, pass 'sort=True'.\n",
      "\n",
      "  sort=sort,\n"
     ]
    },
    {
     "name": "stdout",
     "output_type": "stream",
     "text": [
      "\n"
     ]
    }
   ],
   "source": [
    "data = pd.DataFrame()\n",
    "\n",
    "\n",
    "for pulse in tqdm(db.pulse_list):\n",
    "    # start as ip > 100 kA\n",
    "    ip, t_ip = db.get_signal(pulse, 'Ip')\n",
    "    \n",
    "    t_start = t_ip[(ip > 100).squeeze()][0]\n",
    "    t_end = t_ip[(ip > 100).squeeze()][-1]\n",
    "\n",
    "    nb_pieces = int(np.round((t_end - t_start)/dt))\n",
    "    \n",
    "    rows = {'pulse': pulse}\n",
    "    for signame in db.list_signal(pulse):           \n",
    "        try:\n",
    "            y, t = db.get_signal(pulse, signame)\n",
    "            _y, _t = in_between(y, t, t_start, t_end)\n",
    "            ys, ts = split_in_pieces(_y, _t, nb_pieces)\n",
    "\n",
    "        except IndexError as e:\n",
    "            y, t = db.get_signal(pulse, signame)\n",
    "            # deals with resumed data (like IC frequencies):\n",
    "            # replicate the data for the number of pieces\n",
    "            if y.ndim == 1:\n",
    "                ys = np.tile(y, (int(nb_pieces),1))\n",
    "                \n",
    "        except ValueError as e:\n",
    "            ys = np.zeros(nb_pieces)\n",
    "        \n",
    "        # add data points into the Dataframe\n",
    "        if signame == 'IC_Frequencies':\n",
    "            rows['freq_Q1'] = ys[:,0]\n",
    "            rows['freq_Q2'] = ys[:,1]\n",
    "            rows['freq_Q4'] = ys[:,2]\n",
    "        if signame == 'IC_Positions':\n",
    "            rows['R_Q1'] = ys[:,0]\n",
    "            rows['R_Q2'] = ys[:,1]\n",
    "            rows['R_Q4'] = ys[:,2]\n",
    "        if signame == 'Datetime':\n",
    "            rows['year'] = ys[:,0]\n",
    "            rows['month']= ys[:,1]\n",
    "            rows['day']  = ys[:,2]\n",
    "        else:\n",
    "            \n",
    "            if ys.ndim > 1:  # if to deal with the case of zeros (ValueError previously)\n",
    "                ys = ys[:,0]  # keep only mean (yet)\n",
    "            rows[signame] = np.squeeze(ys)\n",
    "            \n",
    "        _df = pd.DataFrame(rows)\n",
    "    # append data from each pulse to the final DF\n",
    "    data = data.append(_df)"
   ]
  },
  {
   "cell_type": "markdown",
   "metadata": {},
   "source": [
    "Exporting the Dataframe:"
   ]
  },
  {
   "cell_type": "code",
   "execution_count": 7,
   "metadata": {},
   "outputs": [],
   "source": [
    "data.to_csv('WEST_C4_database_resumed_parameters.csv')"
   ]
  },
  {
   "cell_type": "code",
   "execution_count": null,
   "metadata": {},
   "outputs": [],
   "source": []
  }
 ],
 "metadata": {
  "kernelspec": {
   "display_name": "Python 3",
   "language": "python",
   "name": "python3"
  },
  "language_info": {
   "codemirror_mode": {
    "name": "ipython",
    "version": 3
   },
   "file_extension": ".py",
   "mimetype": "text/x-python",
   "name": "python",
   "nbconvert_exporter": "python",
   "pygments_lexer": "ipython3",
   "version": "3.7.6"
  }
 },
 "nbformat": 4,
 "nbformat_minor": 2
}
